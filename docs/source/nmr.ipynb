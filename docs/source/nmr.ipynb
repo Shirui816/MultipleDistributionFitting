{
 "cells": [
  {
   "cell_type": "markdown",
   "metadata": {},
   "source": [
    "# Lorentzian mixtures for H$^1$NMR"
   ]
  },
  {
   "cell_type": "code",
   "execution_count": 8,
   "metadata": {},
   "outputs": [],
   "source": [
    "from Lorentzian import NMRFitting"
   ]
  },
  {
   "cell_type": "markdown",
   "metadata": {},
   "source": [
    "```python\n",
    "class NMRFitting(object):\n",
    "    r\"\"\"Fitting NMR datas.\"\"\"\n",
    "\n",
    "    def __init__(self, files, components_range,\n",
    "                 n_mc_trials=10, n_samples=3000, shift=0, tol=0.01):\n",
    "        r\"\"\"Initialize.\n",
    "\n",
    "        Arguments:\n",
    "        files: a list of files of NMR datas\n",
    "        components_range: a touple of the range of how many peaks\n",
    "        n_mc_trials: default is 10. times that finding BIC\n",
    "        n_samples: default is 3000. samples used to find BIC\n",
    "        shift: default is 0. Set shift if you want to remove some components.\n",
    "        tol: Tolerance of ratio of negative areas after shift.\n",
    "        \"\"\"\n",
    "\n",
    "    def set_p0_bounds(self, p0=(0.5, 0.002, 3.7),\n",
    "                      bounds=((0, 1e-4, 3.5), (1, 1e-1, 4.1))):\n",
    "        r\"\"\"Set p0 and bounds, defaults are for PEG.\n",
    "\n",
    "        Arguments:\n",
    "        p0: 1-d touple or list for area, peak_width and chemical shift\n",
    "        bounds: 2-d touple or list for the lower/upper value of area,\n",
    "                peak_width and chemical shift. +/-np.inf for no bounds.\n",
    "\n",
    "        Returns:\n",
    "        self\n",
    "        \"\"\"\n",
    "\n",
    "    def fitting(self, **kwargs):\n",
    "        r\"\"\"Fitting method.\n",
    "        \n",
    "        kwargs: for `scipy.optimize.curv_fit`\n",
    "        \"\"\"\n",
    "```\n"
   ]
  },
  {
   "cell_type": "code",
   "execution_count": 31,
   "metadata": {},
   "outputs": [],
   "source": [
    "a_0_5 = NMRFitting([\"../data/A-0.50-fitting.txt\"], (2,7))"
   ]
  },
  {
   "cell_type": "code",
   "execution_count": 32,
   "metadata": {},
   "outputs": [
    {
     "name": "stderr",
     "output_type": "stream",
     "text": [
      "../utils/FitLSQ.py:77: UserWarning: p0 must EXACTLY match the base function!\n",
      "  UserWarning)\n",
      "../utils/FitLSQ.py:50: UserWarning: Bounds must EXACTLY match the base function!\n",
      "  UserWarning)\n"
     ]
    },
    {
     "name": "stdout",
     "output_type": "stream",
     "text": [
      "Best estamation by AIC is 3\n",
      "The parameters are: [0.233335 0.001504 3.701074 0.384682 0.034882 3.699284 0.418008 0.002058\n",
      " 3.698922]\n",
      "Best estamation by AICc is 3\n",
      "The parameters are: [0.233335 0.001504 3.701074 0.384682 0.034882 3.699284 0.418008 0.002058\n",
      " 3.698922]\n",
      "Best estamation by BIC is 3\n",
      "The parameters are: [0.233335 0.001504 3.701074 0.384682 0.034882 3.699284 0.418008 0.002058\n",
      " 3.698922]\n",
      "The normalization factor is 1.0012, the original is 2.7394\n"
     ]
    }
   ],
   "source": [
    "a_0_5.set_p0_bounds(p0=[0.5, 0.002, 3.7], bounds=[[0, 1e-4, 3.5], [1, 1e-1, 4.1]])\n",
    "a_0_5 = a_0_5.fitting()"
   ]
  },
  {
   "cell_type": "code",
   "execution_count": 34,
   "metadata": {},
   "outputs": [
    {
     "data": {
      "text/plain": [
       "<matplotlib.legend.Legend at 0x7fc76216fc18>"
      ]
     },
     "execution_count": 34,
     "metadata": {},
     "output_type": "execute_result"
    },
    {
     "data": {
      "image/png": "[encoded data removed]",
      "text/plain": [
       "<Figure size 864x288 with 3 Axes>"
      ]
     },
     "metadata": {},
     "output_type": "display_data"
    }
   ],
   "source": [
    "%matplotlib inline\n",
    "from pylab import *\n",
    "fig = figure(figsize=(12,4))\n",
    "ax1 = fig.add_subplot(131)\n",
    "ax2 = fig.add_subplot(132)\n",
    "ax3 = fig.add_subplot(133)\n",
    "ax1.plot(range(2,7), a_0_5[0][0], label='AIC', lw=2)\n",
    "ax1.legend()\n",
    "ax2.plot(range(2,7), a_0_5[0][1], label='AICc', lw=2)\n",
    "ax2.legend()\n",
    "ax3.plot(range(2,7), a_0_5[0][2], label='BIC', lw=2)\n",
    "ax3.legend()"
   ]
  },
  {
   "cell_type": "code",
   "execution_count": null,
   "metadata": {},
   "outputs": [],
   "source": []
  }
 ],
 "metadata": {
  "kernelspec": {
   "display_name": "Python 3",
   "language": "python",
   "name": "python3"
  },
  "language_info": {
   "codemirror_mode": {
    "name": "ipython",
    "version": 3
   },
   "file_extension": ".py",
   "mimetype": "text/x-python",
   "name": "python",
   "nbconvert_exporter": "python",
   "pygments_lexer": "ipython3",
   "version": "3.6.5"
  }
 },
 "nbformat": 4,
 "nbformat_minor": 2
}
