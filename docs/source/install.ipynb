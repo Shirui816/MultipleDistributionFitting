{
 "cells": [
  {
   "cell_type": "markdown",
   "metadata": {},
   "source": [
    "# Installation\n",
    "\n",
    "## Using pip\n",
    "\n",
    "```bash\n",
    "pip install MultipleDistributionFitting\n",
    "```\n",
    "\n",
    "## Directly download\n",
    "\n",
    "```bash\n",
    "git clone https://github.com/Shirui816/MultipleDistributionFitting.git\n",
    "```\n",
    "or\n",
    "```bash\n",
    "wget https://github.com/Shirui816/MultipleDistributionFitting/archive/master.zip\n",
    "```\n",
    "\n",
    "## Requirements\n",
    "\n",
    "```python\n",
    "numpy >= 1.14\n",
    "scipy >= 1.0\n",
    "python3\n",
    "pandas >= 0.21\n",
    "```\n",
    "\n",
    "Anaconda enviroment is recommanded."
   ]
  },
  {
   "cell_type": "code",
   "execution_count": null,
   "metadata": {},
   "outputs": [],
   "source": []
  }
 ],
 "metadata": {
  "kernelspec": {
   "display_name": "Python 3",
   "language": "python",
   "name": "python3"
  },
  "language_info": {
   "codemirror_mode": {
    "name": "ipython",
    "version": 3
   },
   "file_extension": ".py",
   "mimetype": "text/x-python",
   "name": "python",
   "nbconvert_exporter": "python",
   "pygments_lexer": "ipython3",
   "version": "3.6.5"
  }
 },
 "nbformat": 4,
 "nbformat_minor": 2
}
